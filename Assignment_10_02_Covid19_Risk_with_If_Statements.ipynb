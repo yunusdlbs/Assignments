print("Please, Enter 'Yes' or 'No' !!!!")
age =  input("Are you a cigarette addict older than 75 years old?: ").title()
chronic =  input("Do you have a severe chronic disease?: ").title()
immune =  input("Is your immune system too weak?: ").title()
risk = age=="Yes" or chronic=="Yes" or immune=="Yes"
if risk:
  print("You are in risky group")
else:
  print("You are not in risky group")

