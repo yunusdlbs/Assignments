{
  "nbformat": 4,
  "nbformat_minor": 0,
  "metadata": {
    "colab": {
      "name": "Assignment-10/01_(Password Reminder).ipynb",
      "provenance": [],
      "authorship_tag": "ABX9TyPi9muDSIvJmR0XRWzrLQtN",
      "include_colab_link": true
    },
    "kernelspec": {
      "name": "python3",
      "display_name": "Python 3"
    },
    "language_info": {
      "name": "python"
    }
  },
  "cells": [
    {
      "cell_type": "markdown",
      "metadata": {
        "id": "view-in-github",
        "colab_type": "text"
      },
      "source": [
        "<a href=\"https://colab.research.google.com/github/yunusdlbs/Python-Assignment/blob/main/Assignment_10_01_(Password_Reminder).ipynb\" target=\"_parent\"><img src=\"https://colab.research.google.com/assets/colab-badge.svg\" alt=\"Open In Colab\"/></a>"
      ]
    },
    {
      "cell_type": "code",
      "metadata": {
        "id": "A8pX0fWMZ3dj"
      },
      "source": [
        "name = input(\"Please, Enter your name: \").title()\n",
        "if name == \"Yohannes\":\n",
        "    print(f\"Hello {name}! The password is : W@12\")\n",
        "else:\n",
        "    print(\"Hello {}! See you later\".format(name))\n"
      ],
      "execution_count": null,
      "outputs": []
    }
  ]
}