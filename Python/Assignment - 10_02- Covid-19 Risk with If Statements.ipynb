{
  "cells": [
    {
      "cell_type": "markdown",
      "metadata": {
        "colab_type": "text",
        "id": "view-in-github"
      },
      "source": [
        "<a href=\"https://colab.research.google.com/github/yunusdlbs/Python-Assignment/blob/main/Assignment_10_01_(Password_Reminder).ipynb\" target=\"_parent\"><img src=\"https://colab.research.google.com/assets/colab-badge.svg\" alt=\"Open In Colab\"/></a>"
      ]
    },
    {
      "cell_type": "code",
      "execution_count": 1,
      "metadata": {
        "id": "A8pX0fWMZ3dj"
      },
      "outputs": [
        {
          "name": "stdout",
          "output_type": "stream",
          "text": [
            "Please, Enter 'Yes' or 'No' !!!!\n"
          ]
        }
      ],
      "source": [
        "print(\"Please, Enter 'Yes' or 'No' !!!!\")\n",
        "age =  input(\"Are you a cigarette addict older than 75 years old?: \").title()\n",
        "chronic =  input(\"Do you have a severe chronic disease?: \").title()\n",
        "immune =  input(\"Is your immune system too weak?: \").title()\n",
        "risk = age==\"Yes\" or chronic==\"Yes\" or immune==\"Yes\"\n",
        "if risk:\n",
        "  print(\"You are in risky group\")\n",
        "else:\n",
        "  print(\"You are not in risky group\")\n"
      ]
    }
  ],
  "metadata": {
    "colab": {
      "authorship_tag": "ABX9TyPi9muDSIvJmR0XRWzrLQtN",
      "include_colab_link": true,
      "name": "Assignment-10/01_(Password Reminder).ipynb",
      "provenance": []
    },
    "kernelspec": {
      "display_name": "Python 3",
      "name": "python3"
    },
    "language_info": {
      "codemirror_mode": {
        "name": "ipython",
        "version": 3
      },
      "file_extension": ".py",
      "mimetype": "text/x-python",
      "name": "python",
      "nbconvert_exporter": "python",
      "pygments_lexer": "ipython3",
      "version": "3.8.8"
    }
  },
  "nbformat": 4,
  "nbformat_minor": 0
}
